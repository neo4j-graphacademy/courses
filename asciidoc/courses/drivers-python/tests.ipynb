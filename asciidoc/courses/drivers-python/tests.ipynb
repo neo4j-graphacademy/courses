{
 "cells": [
  {
   "cell_type": "code",
   "execution_count": 1,
   "metadata": {},
   "outputs": [
    {
     "name": "stdout",
     "output_type": "stream",
     "text": [
      "Requirement already satisfied: neo4j in /Users/adam/graphacademy/courses/.venv/lib/python3.12/site-packages (5.27.0)\n",
      "Collecting pandas\n",
      "  Using cached pandas-2.2.3-cp312-cp312-macosx_11_0_arm64.whl.metadata (89 kB)\n",
      "Requirement already satisfied: pytz in /Users/adam/graphacademy/courses/.venv/lib/python3.12/site-packages (from neo4j) (2024.2)\n",
      "Requirement already satisfied: numpy>=1.26.0 in /Users/adam/graphacademy/courses/.venv/lib/python3.12/site-packages (from pandas) (2.2.0)\n",
      "Requirement already satisfied: python-dateutil>=2.8.2 in /Users/adam/graphacademy/courses/.venv/lib/python3.12/site-packages (from pandas) (2.9.0.post0)\n",
      "Collecting tzdata>=2022.7 (from pandas)\n",
      "  Using cached tzdata-2025.1-py2.py3-none-any.whl.metadata (1.4 kB)\n",
      "Requirement already satisfied: six>=1.5 in /Users/adam/graphacademy/courses/.venv/lib/python3.12/site-packages (from python-dateutil>=2.8.2->pandas) (1.17.0)\n",
      "Using cached pandas-2.2.3-cp312-cp312-macosx_11_0_arm64.whl (11.4 MB)\n",
      "Using cached tzdata-2025.1-py2.py3-none-any.whl (346 kB)\n",
      "Installing collected packages: tzdata, pandas\n",
      "Successfully installed pandas-2.2.3 tzdata-2025.1\n",
      "\n",
      "\u001b[1m[\u001b[0m\u001b[34;49mnotice\u001b[0m\u001b[1;39;49m]\u001b[0m\u001b[39;49m A new release of pip is available: \u001b[0m\u001b[31;49m24.3.1\u001b[0m\u001b[39;49m -> \u001b[0m\u001b[32;49m25.0.1\u001b[0m\n",
      "\u001b[1m[\u001b[0m\u001b[34;49mnotice\u001b[0m\u001b[1;39;49m]\u001b[0m\u001b[39;49m To update, run: \u001b[0m\u001b[32;49mpip install --upgrade pip\u001b[0m\n",
      "Note: you may need to restart the kernel to use updated packages.\n"
     ]
    }
   ],
   "source": [
    "%pip install neo4j pandas"
   ]
  },
  {
   "cell_type": "code",
   "execution_count": 3,
   "metadata": {},
   "outputs": [],
   "source": [
    "NEO4J_URI = \"neo4j://localhost:7687\"\n",
    "NEO4J_USER = \"neo4j\"\n",
    "NEO4J_PASSWORD = \"neoneoneo\"\n"
   ]
  },
  {
   "cell_type": "code",
   "execution_count": 4,
   "metadata": {},
   "outputs": [],
   "source": [
    "from neo4j import GraphDatabase\n",
    "\n",
    "driver = GraphDatabase.driver(\n",
    "    NEO4J_URI,\n",
    "    auth=(NEO4J_USER, NEO4J_PASSWORD)\n",
    ")\n",
    "\n",
    "driver.verify_connectivity()\n"
   ]
  },
  {
   "cell_type": "markdown",
   "metadata": {},
   "source": []
  },
  {
   "cell_type": "code",
   "execution_count": 25,
   "metadata": {},
   "outputs": [
    {
     "name": "stdout",
     "output_type": "stream",
     "text": [
      "42\n",
      "available after 1 ms and consumed after 0 ms\n",
      "<class 'neo4j._sync.work.result.Result'>\n"
     ]
    },
    {
     "data": {
      "text/plain": [
       "<neo4j._sync.work.result.Result at 0x119b46ae0>"
      ]
     },
     "execution_count": 25,
     "metadata": {},
     "output_type": "execute_result"
    }
   ],
   "source": [
    "with driver.session() as session:\n",
    "    def get_answer(tx):\n",
    "        result = tx.run(\"RETURN 42 AS answer\")\n",
    "        for record in result:\n",
    "            print(record[\"answer\"])\n",
    "\n",
    "        summary = result.consume()\n",
    "        print(\"available after\", summary.result_available_after, \"ms and consumed after\", summary.result_consumed_after, \"ms\")\n",
    "    \n",
    "        return result\n",
    "\n",
    "    result = session.execute_read(get_answer)\n",
    "    print(type(result))\n",
    "\n",
    "\n",
    "result"
   ]
  },
  {
   "cell_type": "code",
   "execution_count": 33,
   "metadata": {},
   "outputs": [
    {
     "name": "stdout",
     "output_type": "stream",
     "text": [
      "2025-02-19 10:38:11.263694 {'r': 1}\n",
      "2025-02-19 10:38:11.264013 {'r': 2}\n",
      "2025-02-19 10:38:11.264071 {'r': 3}\n",
      "2025-02-19 10:38:11.264108 {'r': 4}\n",
      "2025-02-19 10:38:11.264141 {'r': 5}\n",
      "2025-02-19 10:38:11.264227 {'r': 6}\n",
      "2025-02-19 10:38:11.264279 {'r': 7}\n",
      "2025-02-19 10:38:11.264312 {'r': 8}\n",
      "2025-02-19 10:38:11.264344 {'r': 9}\n",
      "2025-02-19 10:38:11.264374 {'r': 10}\n"
     ]
    }
   ],
   "source": [
    "from datetime import datetime\n",
    "\n",
    "def send_to_ui(result):\n",
    "    for record in result:\n",
    "        print(datetime.now(), dict(record))\n",
    "\n",
    "driver.execute_query(\n",
    "    \"UNWIND range(1, 10) AS r RETURN r\",\n",
    "    result_transformer_=send_to_ui\n",
    ")"
   ]
  },
  {
   "cell_type": "code",
   "execution_count": 34,
   "metadata": {},
   "outputs": [
    {
     "data": {
      "text/plain": [
       "neo4j._work.eager_result.EagerResult"
      ]
     },
     "execution_count": 34,
     "metadata": {},
     "output_type": "execute_result"
    }
   ],
   "source": [
    "res = driver.execute_query(\n",
    "    \"UNWIND range(1, 10) AS r RETURN r\"\n",
    ")\n",
    "type(res)"
   ]
  },
  {
   "cell_type": "code",
   "execution_count": 35,
   "metadata": {},
   "outputs": [
    {
     "name": "stdout",
     "output_type": "stream",
     "text": [
      "2025-02-19 14:51:41.420680 {'r': 1}\n",
      "2025-02-19 14:51:41.420835 {'r': 2}\n",
      "2025-02-19 14:51:41.420864 {'r': 3}\n",
      "2025-02-19 14:51:41.420888 {'r': 4}\n",
      "2025-02-19 14:51:41.421151 {'r': 5}\n",
      "2025-02-19 14:51:41.421194 {'r': 6}\n",
      "2025-02-19 14:51:41.421219 {'r': 7}\n",
      "2025-02-19 14:51:41.421240 {'r': 8}\n",
      "2025-02-19 14:51:41.421260 {'r': 9}\n",
      "2025-02-19 14:51:41.421279 {'r': 10}\n"
     ]
    }
   ],
   "source": [
    "from datetime import datetime\n",
    "\n",
    "def send_to_ui(result):\n",
    "    for record in result:\n",
    "        print(datetime.now(), dict(record))\n",
    "\n",
    "driver.execute_query(\n",
    "    \"UNWIND range(1, 10) AS r RETURN r\",\n",
    "    result_transformer_=send_to_ui\n",
    ")"
   ]
  },
  {
   "cell_type": "code",
   "execution_count": 38,
   "metadata": {},
   "outputs": [
    {
     "ename": "ImportError",
     "evalue": "cannot import name 'LocalTime' from 'neo4j.time' (/Users/adam/graphacademy/courses/.venv/lib/python3.12/site-packages/neo4j/time/__init__.py)",
     "output_type": "error",
     "traceback": [
      "\u001b[0;31m---------------------------------------------------------------------------\u001b[0m",
      "\u001b[0;31mImportError\u001b[0m                               Traceback (most recent call last)",
      "Cell \u001b[0;32mIn[38], line 1\u001b[0m\n\u001b[0;32m----> 1\u001b[0m \u001b[38;5;28;01mfrom\u001b[39;00m\u001b[38;5;250m \u001b[39m\u001b[38;5;21;01mneo4j\u001b[39;00m\u001b[38;5;21;01m.\u001b[39;00m\u001b[38;5;21;01mtime\u001b[39;00m\u001b[38;5;250m \u001b[39m\u001b[38;5;28;01mimport\u001b[39;00m DateTime, Date, Time, LocalTime, LocalDateTime, Duration\n\u001b[1;32m      3\u001b[0m DateTime\u001b[38;5;241m.\u001b[39mnow(), Date\u001b[38;5;241m.\u001b[39mtoday()\n",
      "\u001b[0;31mImportError\u001b[0m: cannot import name 'LocalTime' from 'neo4j.time' (/Users/adam/graphacademy/courses/.venv/lib/python3.12/site-packages/neo4j/time/__init__.py)"
     ]
    }
   ],
   "source": [
    "from neo4j.time import DateTime, Date, Time, LocalTime, LocalDateTime, Duration\n",
    "\n",
    "DateTime.now(), Date.today()"
   ]
  },
  {
   "cell_type": "code",
   "execution_count": 43,
   "metadata": {},
   "outputs": [
    {
     "ename": "AttributeError",
     "evalue": "Date has no attribute 'to_iso_format'",
     "output_type": "error",
     "traceback": [
      "\u001b[0;31m---------------------------------------------------------------------------\u001b[0m",
      "\u001b[0;31mAttributeError\u001b[0m                            Traceback (most recent call last)",
      "Cell \u001b[0;32mIn[43], line 8\u001b[0m\n\u001b[1;32m      3\u001b[0m day \u001b[38;5;241m=\u001b[39m \u001b[38;5;241m4\u001b[39m\n\u001b[1;32m      5\u001b[0m d \u001b[38;5;241m=\u001b[39m Date(year, month, day)\n\u001b[0;32m----> 8\u001b[0m \u001b[43md\u001b[49m\u001b[38;5;241;43m.\u001b[39;49m\u001b[43mto_iso_format\u001b[49m()\n",
      "File \u001b[0;32m~/graphacademy/courses/.venv/lib/python3.12/site-packages/neo4j/time/__init__.py:1460\u001b[0m, in \u001b[0;36mDate.__getattr__\u001b[0;34m(self, name)\u001b[0m\n\u001b[1;32m   1451\u001b[0m     \u001b[38;5;28;01mreturn\u001b[39;00m {\n\u001b[1;32m   1452\u001b[0m         \u001b[38;5;124m\"\u001b[39m\u001b[38;5;124misocalendar\u001b[39m\u001b[38;5;124m\"\u001b[39m: \u001b[38;5;28mself\u001b[39m\u001b[38;5;241m.\u001b[39miso_calendar,\n\u001b[1;32m   1453\u001b[0m         \u001b[38;5;124m\"\u001b[39m\u001b[38;5;124misoformat\u001b[39m\u001b[38;5;124m\"\u001b[39m: \u001b[38;5;28mself\u001b[39m\u001b[38;5;241m.\u001b[39miso_format,\n\u001b[0;32m   (...)\u001b[0m\n\u001b[1;32m   1457\u001b[0m         \u001b[38;5;124m\"\u001b[39m\u001b[38;5;124mtimetuple\u001b[39m\u001b[38;5;124m\"\u001b[39m: \u001b[38;5;28mself\u001b[39m\u001b[38;5;241m.\u001b[39mtime_tuple,\n\u001b[1;32m   1458\u001b[0m     }[name]\n\u001b[1;32m   1459\u001b[0m \u001b[38;5;28;01mexcept\u001b[39;00m \u001b[38;5;167;01mKeyError\u001b[39;00m:\n\u001b[0;32m-> 1460\u001b[0m     \u001b[38;5;28;01mraise\u001b[39;00m \u001b[38;5;167;01mAttributeError\u001b[39;00m(\u001b[38;5;124mf\u001b[39m\u001b[38;5;124m\"\u001b[39m\u001b[38;5;124mDate has no attribute \u001b[39m\u001b[38;5;132;01m{\u001b[39;00mname\u001b[38;5;132;01m!r}\u001b[39;00m\u001b[38;5;124m\"\u001b[39m) \u001b[38;5;28;01mfrom\u001b[39;00m\u001b[38;5;250m \u001b[39m\u001b[38;5;28;01mNone\u001b[39;00m\n",
      "\u001b[0;31mAttributeError\u001b[0m: Date has no attribute 'to_iso_format'"
     ]
    }
   ],
   "source": [
    "year = 2012\n",
    "month = 3\n",
    "day = 4\n",
    "\n",
    "d = Date(year, month, day)\n",
    "\n",
    "\n",
    "d.to_iso_format()\n"
   ]
  },
  {
   "cell_type": "code",
   "execution_count": 47,
   "metadata": {},
   "outputs": [
    {
     "name": "stdout",
     "output_type": "stream",
     "text": [
      "739301\n",
      "2025-02-19\n"
     ]
    },
    {
     "ename": "AttributeError",
     "evalue": "Date has no attribute 'to_iso_format'",
     "output_type": "error",
     "traceback": [
      "\u001b[0;31m---------------------------------------------------------------------------\u001b[0m",
      "\u001b[0;31mAttributeError\u001b[0m                            Traceback (most recent call last)",
      "Cell \u001b[0;32mIn[47], line 6\u001b[0m\n\u001b[1;32m      4\u001b[0m \u001b[38;5;28mprint\u001b[39m(date\u001b[38;5;241m.\u001b[39mto_native())\n\u001b[1;32m      5\u001b[0m \u001b[38;5;66;03m# print(date.to_clock_time(20))\u001b[39;00m\n\u001b[0;32m----> 6\u001b[0m \u001b[38;5;28mprint\u001b[39m(\u001b[43mdate\u001b[49m\u001b[38;5;241;43m.\u001b[39;49m\u001b[43mto_iso_format\u001b[49m())\n",
      "File \u001b[0;32m~/graphacademy/courses/.venv/lib/python3.12/site-packages/neo4j/time/__init__.py:1460\u001b[0m, in \u001b[0;36mDate.__getattr__\u001b[0;34m(self, name)\u001b[0m\n\u001b[1;32m   1451\u001b[0m     \u001b[38;5;28;01mreturn\u001b[39;00m {\n\u001b[1;32m   1452\u001b[0m         \u001b[38;5;124m\"\u001b[39m\u001b[38;5;124misocalendar\u001b[39m\u001b[38;5;124m\"\u001b[39m: \u001b[38;5;28mself\u001b[39m\u001b[38;5;241m.\u001b[39miso_calendar,\n\u001b[1;32m   1453\u001b[0m         \u001b[38;5;124m\"\u001b[39m\u001b[38;5;124misoformat\u001b[39m\u001b[38;5;124m\"\u001b[39m: \u001b[38;5;28mself\u001b[39m\u001b[38;5;241m.\u001b[39miso_format,\n\u001b[0;32m   (...)\u001b[0m\n\u001b[1;32m   1457\u001b[0m         \u001b[38;5;124m\"\u001b[39m\u001b[38;5;124mtimetuple\u001b[39m\u001b[38;5;124m\"\u001b[39m: \u001b[38;5;28mself\u001b[39m\u001b[38;5;241m.\u001b[39mtime_tuple,\n\u001b[1;32m   1458\u001b[0m     }[name]\n\u001b[1;32m   1459\u001b[0m \u001b[38;5;28;01mexcept\u001b[39;00m \u001b[38;5;167;01mKeyError\u001b[39;00m:\n\u001b[0;32m-> 1460\u001b[0m     \u001b[38;5;28;01mraise\u001b[39;00m \u001b[38;5;167;01mAttributeError\u001b[39;00m(\u001b[38;5;124mf\u001b[39m\u001b[38;5;124m\"\u001b[39m\u001b[38;5;124mDate has no attribute \u001b[39m\u001b[38;5;132;01m{\u001b[39;00mname\u001b[38;5;132;01m!r}\u001b[39;00m\u001b[38;5;124m\"\u001b[39m) \u001b[38;5;28;01mfrom\u001b[39;00m\u001b[38;5;250m \u001b[39m\u001b[38;5;28;01mNone\u001b[39;00m\n",
      "\u001b[0;31mAttributeError\u001b[0m: Date has no attribute 'to_iso_format'"
     ]
    }
   ],
   "source": [
    "date = Date.today()\n",
    "\n",
    "print(date.to_ordinal())\n",
    "print(date.to_native())\n",
    "# print(date.to_clock_time(20))\n",
    "print(date.to_iso_format())"
   ]
  },
  {
   "cell_type": "code",
   "execution_count": 48,
   "metadata": {},
   "outputs": [
    {
     "name": "stdout",
     "output_type": "stream",
     "text": [
      "736814\n",
      "2018-04-30\n"
     ]
    },
    {
     "ename": "TypeError",
     "evalue": "Date.to_clock_time() missing 1 required positional argument: 'epoch'",
     "output_type": "error",
     "traceback": [
      "\u001b[0;31m---------------------------------------------------------------------------\u001b[0m",
      "\u001b[0;31mTypeError\u001b[0m                                 Traceback (most recent call last)",
      "Cell \u001b[0;32mIn[48], line 9\u001b[0m\n\u001b[1;32m      7\u001b[0m \u001b[38;5;28mprint\u001b[39m(date\u001b[38;5;241m.\u001b[39mto_ordinal())\n\u001b[1;32m      8\u001b[0m \u001b[38;5;28mprint\u001b[39m(date\u001b[38;5;241m.\u001b[39mto_native())\n\u001b[0;32m----> 9\u001b[0m \u001b[38;5;28mprint\u001b[39m(\u001b[43mdate\u001b[49m\u001b[38;5;241;43m.\u001b[39;49m\u001b[43mto_clock_time\u001b[49m\u001b[43m(\u001b[49m\u001b[43m)\u001b[49m)\n\u001b[1;32m     10\u001b[0m \u001b[38;5;28mprint\u001b[39m(date\u001b[38;5;241m.\u001b[39mto_iso_format())\n",
      "\u001b[0;31mTypeError\u001b[0m: Date.to_clock_time() missing 1 required positional argument: 'epoch'"
     ]
    }
   ],
   "source": [
    "\n",
    "year = 2018\n",
    "month = 4\n",
    "day = 30\n",
    "\n",
    "date = Date(year, month, day)\n",
    "\n",
    "print(date.to_ordinal())\n",
    "print(date.to_native())\n",
    "print(date.to_clock_time())\n",
    "print(date.to_iso_format())"
   ]
  },
  {
   "cell_type": "code",
   "execution_count": null,
   "metadata": {},
   "outputs": [],
   "source": []
  }
 ],
 "metadata": {
  "kernelspec": {
   "display_name": ".venv",
   "language": "python",
   "name": "python3"
  },
  "language_info": {
   "codemirror_mode": {
    "name": "ipython",
    "version": 3
   },
   "file_extension": ".py",
   "mimetype": "text/x-python",
   "name": "python",
   "nbconvert_exporter": "python",
   "pygments_lexer": "ipython3",
   "version": "3.12.4"
  }
 },
 "nbformat": 4,
 "nbformat_minor": 2
}
