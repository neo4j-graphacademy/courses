{
 "cells": [
  {
   "cell_type": "markdown",
   "metadata": {},
   "source": [
    "# Module 6: Intelligent Agents\n",
    "\n",
    "Build intelligent agents that reason over financial graph data and make informed decisions.\n",
    "\n",
    "## Learning Objectives\n",
    "- Create agents with memory and graph reasoning capabilities\n",
    "- Build tool-based architectures for financial analysis\n",
    "- Implement complete investment analysis workflows\n",
    "\n",
    "## Module Structure\n",
    "1. **Basic Agent** - Memory and simple tools\n",
    "2. **Graph Reasoning** - Multi-hop analysis patterns\n",
    "3. **Complete System** - End-to-end financial intelligence"
   ]
  },
  {
   "cell_type": "markdown",
   "metadata": {},
   "source": [
    "## Setup and Dependencies\n",
    "\n",
    "First, we'll install the required packages for building intelligent agents with graph database capabilities."
   ]
  },
  {
   "cell_type": "code",
   "execution_count": null,
   "metadata": {},
   "outputs": [],
   "source": [
    "# Install required packages for intelligent agents\n",
    "!pip install neo4j pandas matplotlib python-dotenv"
   ]
  },
  {
   "cell_type": "markdown",
   "metadata": {},
   "source": [
    "## Import Libraries\n",
    "\n",
    "We'll import the necessary libraries and create a simple mock LLM for demonstration purposes. In production, you would replace this with a real LLM like OpenAI's GPT or Anthropic's Claude."
   ]
  },
  {
   "cell_type": "code",
   "execution_count": null,
   "metadata": {},
   "outputs": [],
   "source": [
    "# Import essential libraries for agent development\n",
    "import os\n",
    "import pandas as pd\n",
    "import matplotlib.pyplot as plt\n",
    "from datetime import datetime\n",
    "from typing import List, Dict, Any\n",
    "from dataclasses import dataclass, field\n",
    "from neo4j import GraphDatabase"
   ]
  },
  {
   "cell_type": "markdown",
   "metadata": {},
   "source": [
    "## Create Mock LLM for Demonstrations\n",
    "\n",
    "This simple mock LLM will generate responses based on prompt keywords. In production, replace this with OpenAI, Anthropic, or other LLM APIs."
   ]
  },
  {
   "cell_type": "code",
   "execution_count": null,
   "metadata": {},
   "outputs": [],
   "source": [
    "class MockLLM:\n",
    "    \"\"\"Simple mock LLM for demonstrations\"\"\"\n",
    "    def generate(self, prompt: str) -> str:\n",
    "        \"\"\"Generate responses based on prompt keywords\"\"\"\n",
    "        if 'apple' in prompt.lower():\n",
    "            return \"Apple shows strong fundamentals. Recommended as solid tech investment with moderate risk.\"\n",
    "        elif 'risk' in prompt.lower():\n",
    "            return \"Key risks: competition, regulation, supply chain. Overall moderate risk level.\"\n",
    "        return \"Analysis indicates positive trends with areas requiring monitoring.\"\n",
    "\n",
    "# Initialize the mock LLM\n",
    "llm = MockLLM()\n",
    "print(\"✅ Mock LLM initialized\")"
   ]
  },
  {
   "cell_type": "markdown",
   "metadata": {},
   "source": [
    "## Neo4j Database Connection\n",
    "\n",
    "Every notebook needs to establish a connection to Neo4j. We'll load environment variables and create a database driver with proper error handling."
   ]
  },
  {
   "cell_type": "code",
   "execution_count": null,
   "metadata": {},
   "outputs": [],
   "source": [
    "# Load environment variables for database connection\n",
    "from dotenv import load_dotenv\n",
    "load_dotenv()\n",
    "\n",
    "# Set up Neo4j connection parameters\n",
    "NEO4J_URI = os.getenv('NEO4J_URI', 'bolt://localhost:7687')\n",
    "NEO4J_USERNAME = os.getenv('NEO4J_USERNAME', 'neo4j')\n",
    "NEO4J_PASSWORD = os.getenv('NEO4J_PASSWORD', 'password')\n",
    "\n",
    "print(f\"Connecting to Neo4j at {NEO4J_URI}\")"
   ]
  },
  {
   "cell_type": "code",
   "execution_count": null,
   "metadata": {},
   "outputs": [],
   "source": [
    "# Create Neo4j driver and helper function\n",
    "driver = GraphDatabase.driver(NEO4J_URI, auth=(NEO4J_USERNAME, NEO4J_PASSWORD))\n",
    "\n",
    "def run_query(query, parameters=None):\n",
    "    \"\"\"Execute a Cypher query and return results as a list of dictionaries\"\"\"\n",
    "    with driver.session() as session:\n",
    "        result = session.run(query, parameters or {})\n",
    "        return [record.data() for record in result]"
   ]
  },
  {
   "cell_type": "code",
   "execution_count": null,
   "metadata": {},
   "outputs": [],
   "source": [
    "# Test the database connection\n",
    "try:\n",
    "    result = run_query(\"RETURN 'Connected to Neo4j!' as message\")\n",
    "    print(f\"✅ {result[0]['message']}\")\n",
    "except Exception as e:\n",
    "    print(f\"❌ Neo4j connection failed: {e}\")\n",
    "    print(\"Please ensure Neo4j is running and credentials are correct\")"
   ]
  },
  {
   "cell_type": "markdown",
   "metadata": {},
   "source": [
    "## Sample Financial Data Creation\n",
    "\n",
    "Now we'll create a simple financial network in Neo4j for our agents to analyze. This includes companies, risk factors, and relationships between them."
   ]
  },
  {
   "cell_type": "code",
   "execution_count": null,
   "metadata": {},
   "outputs": [],
   "source": [
    "# Clear any existing data to start fresh\n",
    "run_query(\"MATCH (n) DETACH DELETE n\")\n",
    "print(\"🧹 Cleared existing data\")"
   ]
  },
  {
   "cell_type": "code",
   "execution_count": null,
   "metadata": {},
   "outputs": [],
   "source": [
    "# Create company nodes with basic properties\n",
    "companies = [\n",
    "    {'name': 'Apple Inc', 'ticker': 'AAPL', 'sector': 'Technology'},\n",
    "    {'name': 'Microsoft Corp', 'ticker': 'MSFT', 'sector': 'Technology'}\n",
    "]\n",
    "\n",
    "for company in companies:\n",
    "    run_query(\"CREATE (c:Company $props)\", {'props': company})\n",
    "\n",
    "print(\"🏢 Created company nodes\")"
   ]
  },
  {
   "cell_type": "code",
   "execution_count": null,
   "metadata": {},
   "outputs": [],
   "source": [
    "# Create risk factor nodes\n",
    "run_query(\"CREATE (r:RiskFactor {name: 'Market Competition', severity: 'Medium'})\")\n",
    "run_query(\"CREATE (r:RiskFactor {name: 'Regulatory Changes', severity: 'High'})\")\n",
    "print(\"⚠️ Created risk factors\")"
   ]
  },
  {
   "cell_type": "code",
   "execution_count": null,
   "metadata": {},
   "outputs": [],
   "source": [
    "# Create relationships between companies and risk factors\n",
    "run_query(\"\"\"\n",
    "MATCH (c:Company {name: 'Apple Inc'}), (r:RiskFactor {name: 'Market Competition'})\n",
    "CREATE (c)-[:FACES_RISK]->(r)\n",
    "\"\"\")\n",
    "\n",
    "# Create competitive relationship between companies\n",
    "run_query(\"\"\"\n",
    "MATCH (c1:Company {name: 'Apple Inc'}), (c2:Company {name: 'Microsoft Corp'})\n",
    "CREATE (c1)-[:COMPETES_WITH]->(c2)\n",
    "\"\"\")\n",
    "\n",
    "print(\"🔗 Created relationships\")\n",
    "print(\"✅ Financial data network ready\")"
   ]
  },
  {
   "cell_type": "markdown",
   "metadata": {},
   "source": [
    "## Lesson 1: Basic Financial Agent\n",
    "\n",
    "Now we'll build our first intelligent agent. This agent will have memory to track conversations and a simple tool to query company data from our graph database."
   ]
  },
  {
   "cell_type": "markdown",
   "metadata": {},
   "source": [
    "### Agent Memory System\n",
    "\n",
    "First, let's create a simple memory system that can track conversations and entities (like companies) that the agent analyzes."
   ]
  },
  {
   "cell_type": "code",
   "execution_count": null,
   "metadata": {},
   "outputs": [],
   "source": [
    "@dataclass\n",
    "class AgentMemory:\n",
    "    \"\"\"Simple memory to track conversations and entities\"\"\"\n",
    "    conversations: List[Dict] = field(default_factory=list)\n",
    "    entities: Dict[str, List[str]] = field(default_factory=dict)\n",
    "    \n",
    "    def add_conversation(self, query: str, response: str):\n",
    "        \"\"\"Add a conversation to memory, keeping only the last 5\"\"\"\n",
    "        self.conversations.append({\n",
    "            'query': query, 'response': response, 'time': datetime.now()\n",
    "        })\n",
    "        if len(self.conversations) > 5:  # Keep memory manageable\n",
    "            self.conversations.pop(0)\n",
    "    \n",
    "    def track_entity(self, entity: str, context: str):\n",
    "        \"\"\"Track when entities (like companies) are mentioned\"\"\"\n",
    "        if entity not in self.entities:\n",
    "            self.entities[entity] = []\n",
    "        self.entities[entity].append(context)\n",
    "\n",
    "print(\"✅ Agent memory system defined\")"
   ]
  },
  {
   "cell_type": "markdown",
   "metadata": {},
   "source": [
    "### Company Data Tool\n",
    "\n",
    "Next, we'll create a tool that can query our graph database to retrieve company information, risks, and competitors."
   ]
  },
  {
   "cell_type": "code",
   "execution_count": null,
   "metadata": {},
   "outputs": [],
   "source": [
    "class CompanyTool:\n",
    "    \"\"\"Tool to retrieve company information from Neo4j\"\"\"\n",
    "    \n",
    "    def execute(self, company_name: str) -> Dict[str, Any]:\n",
    "        \"\"\"Query the graph for company data and related information\"\"\"\n",
    "        query = \"\"\"\n",
    "        MATCH (c:Company {name: $name})\n",
    "        OPTIONAL MATCH (c)-[:FACES_RISK]->(r:RiskFactor)\n",
    "        OPTIONAL MATCH (c)-[:COMPETES_WITH]->(comp:Company)\n",
    "        RETURN c.name as name, c.ticker as ticker, c.sector as sector,\n",
    "               collect(DISTINCT r.name) as risks,\n",
    "               collect(DISTINCT comp.name) as competitors\n",
    "        \"\"\"\n",
    "        results = run_query(query, {'name': company_name})\n",
    "        \n",
    "        if results:\n",
    "            data = results[0]\n",
    "            return {\n",
    "                'success': True,\n",
    "                'company': data['name'],\n",
    "                'ticker': data['ticker'],\n",
    "                'sector': data['sector'],\n",
    "                'risks': [r for r in data['risks'] if r],  # Remove empty values\n",
    "                'competitors': [c for c in data['competitors'] if c]\n",
    "            }\n",
    "        return {'success': False, 'error': f'Company {company_name} not found'}\n",
    "\n",
    "print(\"✅ Company data tool created\")"
   ]
  },
  {
   "cell_type": "markdown",
   "metadata": {},
   "source": [
    "### Basic Financial Agent\n",
    "\n",
    "Now let's combine the memory system and tool into a complete financial agent that can analyze companies."
   ]
  },
  {
   "cell_type": "code",
   "execution_count": null,
   "metadata": {},
   "outputs": [],
   "source": [
    "class FinancialAgent:\n",
    "    \"\"\"A basic financial analysis agent with memory and tools\"\"\"\n",
    "    \n",
    "    def __init__(self, name: str):\n",
    "        self.name = name\n",
    "        self.memory = AgentMemory()\n",
    "        self.company_tool = CompanyTool()\n",
    "        self.query_count = 0\n",
    "    \n",
    "    def get_status(self):\n",
    "        \"\"\"Get current agent performance metrics\"\"\"\n",
    "        return {\n",
    "            'name': self.name,\n",
    "            'queries': self.query_count,\n",
    "            'conversations': len(self.memory.conversations),\n",
    "            'entities_tracked': len(self.memory.entities)\n",
    "        }\n",
    "\n",
    "print(\"✅ Basic agent class defined\")"
   ]
  },
  {
   "cell_type": "code",
   "execution_count": null,
   "metadata": {},
   "outputs": [],
   "source": [
    "def analyze_company(self, company_name: str) -> str:\n",
    "    \"\"\"Analyze a company using our tool and LLM reasoning\"\"\"\n",
    "    self.query_count += 1\n",
    "    \n",
    "    # Step 1: Get company data using our tool\n",
    "    company_data = self.company_tool.execute(company_name)\n",
    "    \n",
    "    if not company_data['success']:\n",
    "        response = f\"Could not find data for {company_name}\"\n",
    "        self.memory.add_conversation(f\"Analyze {company_name}\", response)\n",
    "        return response\n",
    "    \n",
    "    # Step 2: Create prompt for LLM analysis\n",
    "    prompt = f\"\"\"\n",
    "    Analyze {company_data['company']} ({company_data['ticker']}) in {company_data['sector']} sector.\n",
    "    Risks: {', '.join(company_data['risks']) if company_data['risks'] else 'None'}\n",
    "    Competitors: {', '.join(company_data['competitors']) if company_data['competitors'] else 'None'}\n",
    "    Provide investment recommendation.\n",
    "    \"\"\"\n",
    "    \n",
    "    # Step 3: Get LLM analysis\n",
    "    analysis = llm.generate(prompt)\n",
    "    \n",
    "    # Step 4: Store results in memory for future reference\n",
    "    self.memory.add_conversation(f\"Analyze {company_name}\", analysis)\n",
    "    self.memory.track_entity(company_name, f\"Analysis on {datetime.now().date()}\")\n",
    "    \n",
    "    return analysis\n",
    "\n",
    "# Add the method to our FinancialAgent class\n",
    "FinancialAgent.analyze_company = analyze_company\n",
    "\n",
    "print(\"✅ Company analysis method added to agent\")"
   ]
  },
  {
   "cell_type": "code",
   "execution_count": null,
   "metadata": {},
   "outputs": [],
   "source": [
    "# Create our first financial agent\n",
    "agent = FinancialAgent(\"InvestmentAnalyst\")\n",
    "print(\"✅ Basic financial agent created successfully\")\n",
    "print(f\"Agent status: {agent.get_status()}\")"
   ]
  },
  {
   "cell_type": "markdown",
   "metadata": {},
   "source": [
    "### Test the Basic Agent\n",
    "\n",
    "Let's test our basic agent by analyzing some companies and checking its memory."
   ]
  },
  {
   "cell_type": "code",
   "execution_count": null,
   "metadata": {},
   "outputs": [],
   "source": [
    "print(\"=== TESTING BASIC AGENT ===\\n\")\n",
    "\n",
    "# Test 1: Analyze Apple\n",
    "print(\"📊 Analyzing Apple Inc:\")\n",
    "apple_analysis = agent.analyze_company(\"Apple Inc\")\n",
    "print(f\"{apple_analysis}\\n\")"
   ]
  },
  {
   "cell_type": "code",
   "execution_count": null,
   "metadata": {},
   "outputs": [],
   "source": [
    "# Test 2: Analyze Microsoft\n",
    "print(\"📊 Analyzing Microsoft Corp:\")\n",
    "microsoft_analysis = agent.analyze_company(\"Microsoft Corp\")\n",
    "print(f\"{microsoft_analysis}\\n\")"
   ]
  },
  {
   "cell_type": "code",
   "execution_count": null,
   "metadata": {},
   "outputs": [],
   "source": [
    "# Test 3: Check agent memory and status\n",
    "print(\"🧠 Agent Memory:\")\n",
    "print(f\"  Conversations: {len(agent.memory.conversations)}\")\n",
    "print(f\"  Entities tracked: {list(agent.memory.entities.keys())}\")\n",
    "\n",
    "status = agent.get_status()\n",
    "print(f\"\\n📈 Agent Status: {status['queries']} queries, {status['entities_tracked']} entities tracked\")"
   ]
  },
  {
   "cell_type": "markdown",
   "metadata": {},
   "source": [
    "## Lesson 2: Graph Reasoning Agent\n",
    "\n",
    "Now we'll enhance our agent with graph-based reasoning capabilities. This allows the agent to analyze competitive relationships and risk networks."
   ]
  },
  {
   "cell_type": "markdown",
   "metadata": {},
   "source": [
    "### Graph Reasoning Tool\n",
    "\n",
    "This tool performs two types of graph-based analysis: competitive analysis and risk network analysis."
   ]
  },
  {
   "cell_type": "code",
   "execution_count": null,
   "metadata": {},
   "outputs": [],
   "source": [
    "class GraphReasoningTool:\n",
    "    \"\"\"Tool for graph-based reasoning patterns\"\"\"\n",
    "    \n",
    "    def competitive_analysis(self, company_name: str):\n",
    "        \"\"\"Analyze competitive relationships and market positioning\"\"\"\n",
    "        query = \"\"\"\n",
    "        MATCH (c:Company {name: $name})\n",
    "        OPTIONAL MATCH (c)-[:COMPETES_WITH]->(competitor:Company)\n",
    "        OPTIONAL MATCH (c)-[:FACES_RISK]->(risk:RiskFactor)<-[:FACES_RISK]-(peer:Company)\n",
    "        WHERE peer <> c\n",
    "        RETURN c.name as company, c.sector as sector,\n",
    "               collect(DISTINCT competitor.name) as direct_competitors,\n",
    "               collect(DISTINCT peer.name) as risk_peers\n",
    "        \"\"\"\n",
    "        results = run_query(query, {'name': company_name})\n",
    "        \n",
    "        if results:\n",
    "            data = results[0]\n",
    "            competitors = [c for c in data['direct_competitors'] if c]\n",
    "            peers = [p for p in data['risk_peers'] if p]\n",
    "            \n",
    "            return {\n",
    "                'success': True,\n",
    "                'company': data['company'],\n",
    "                'sector': data['sector'],\n",
    "                'direct_competitors': competitors,\n",
    "                'risk_peers': peers,\n",
    "                'competitive_intensity': 'High' if len(competitors) > 2 else 'Medium' if len(competitors) > 0 else 'Low'\n",
    "            }\n",
    "        return {'success': False, 'error': f'Company {company_name} not found'}\n",
    "\n",
    "print(\"✅ Competitive analysis method created\")"
   ]
  },
  {
   "cell_type": "code",
   "execution_count": null,
   "metadata": {},
   "outputs": [],
   "source": [
    "def risk_analysis(self, company_name: str):\n",
    "    \"\"\"Analyze risk exposure through network effects\"\"\"\n",
    "    query = \"\"\"\n",
    "    MATCH (c:Company {name: $name})\n",
    "    OPTIONAL MATCH (c)-[:FACES_RISK]->(risk:RiskFactor)\n",
    "    OPTIONAL MATCH (c)-[:FACES_RISK]->(shared_risk:RiskFactor)<-[:FACES_RISK]-(other:Company)\n",
    "    WHERE other <> c\n",
    "    RETURN c.name as company,\n",
    "           collect(DISTINCT risk.name) as direct_risks,\n",
    "           collect(DISTINCT {risk: shared_risk.name, shared_with: other.name}) as network_risks\n",
    "    \"\"\"\n",
    "    results = run_query(query, {'name': company_name})\n",
    "    \n",
    "    if results:\n",
    "        data = results[0]\n",
    "        direct_risks = data['direct_risks']\n",
    "        network_risks = [nr for nr in data['network_risks'] if nr['risk']]\n",
    "        \n",
    "        risk_score = len(direct_risks) * 20 + len(network_risks) * 10\n",
    "        risk_level = 'High' if risk_score >= 60 else 'Medium' if risk_score >= 30 else 'Low'\n",
    "        \n",
    "        return {\n",
    "            'success': True,\n",
    "            'company': data['company'],\n",
    "            'direct_risks': direct_risks,\n",
    "            'network_risks': network_risks,\n",
    "            'risk_score': min(risk_score, 100),\n",
    "            'risk_level': risk_level\n",
    "        }\n",
    "    return {'success': False, 'error': f'Company {company_name} not found'}\n",
    "\n",
    "# Add the method to our GraphReasoningTool class\n",
    "GraphReasoningTool.risk_analysis = risk_analysis\n",
    "\n",
    "print(\"✅ Risk analysis method added\")"
   ]
  },
  {
   "cell_type": "markdown",
   "metadata": {},
   "source": [
    "### Enhanced Financial Agent\n",
    "\n",
    "Now we'll create an enhanced agent that combines basic analysis with graph reasoning capabilities."
   ]
  },
  {
   "cell_type": "code",
   "execution_count": null,
   "metadata": {},
   "outputs": [],
   "source": [
    "class EnhancedAgent(FinancialAgent):\n",
    "    \"\"\"Enhanced agent with graph reasoning capabilities\"\"\"\n",
    "    \n",
    "    def __init__(self, name: str):\n",
    "        super().__init__(name)\n",
    "        self.graph_tool = GraphReasoningTool()\n",
    "\n",
    "print(\"✅ Enhanced agent class defined\")"
   ]
  },
  {
   "cell_type": "code",
   "execution_count": null,
   "metadata": {},
   "outputs": [],
   "source": [
    "def comprehensive_analysis(self, company_name: str):\n",
    "    \"\"\"Perform comprehensive company analysis using multiple tools\"\"\"\n",
    "    # Step 1: Get basic company data\n",
    "    company_data = self.company_tool.execute(company_name)\n",
    "    if not company_data['success']:\n",
    "        return {'error': f'Company {company_name} not found'}\n",
    "    \n",
    "    # Step 2: Analyze competitive landscape\n",
    "    competitive_analysis = self.graph_tool.competitive_analysis(company_name)\n",
    "    \n",
    "    # Step 3: Analyze risk network\n",
    "    risk_analysis = self.graph_tool.risk_analysis(company_name)\n",
    "    \n",
    "    # Step 4: Generate comprehensive recommendation\n",
    "    prompt = f\"\"\"\n",
    "    Investment analysis for {company_name}:\n",
    "    \n",
    "    Basic: {company_data['sector']} sector company\n",
    "    Competition: {competitive_analysis['competitive_intensity']} intensity, {len(competitive_analysis['direct_competitors'])} direct competitors\n",
    "    Risk: {risk_analysis['risk_level']} risk level, score {risk_analysis['risk_score']}/100\n",
    "    \n",
    "    Provide BUY/HOLD/SELL recommendation with reasoning.\n",
    "    \"\"\"\n",
    "    \n",
    "    recommendation = llm.generate(prompt)\n",
    "    \n",
    "    # Store in memory\n",
    "    self.memory.add_conversation(f\"Full analysis {company_name}\", recommendation)\n",
    "    self.memory.track_entity(company_name, f\"Comprehensive analysis\")\n",
    "    self.query_count += 1\n",
    "    \n",
    "    return {\n",
    "        'company': company_name,\n",
    "        'basic_data': company_data,\n",
    "        'competitive_analysis': competitive_analysis,\n",
    "        'risk_analysis': risk_analysis,\n",
    "        'recommendation': recommendation\n",
    "    }\n",
    "\n",
    "# Add the method to our EnhancedAgent class\n",
    "EnhancedAgent.comprehensive_analysis = comprehensive_analysis\n",
    "\n",
    "print(\"✅ Comprehensive analysis method added\")"
   ]
  },
  {
   "cell_type": "code",
   "execution_count": null,
   "metadata": {},
   "outputs": [],
   "source": [
    "# Create enhanced agent with graph reasoning\n",
    "enhanced_agent = EnhancedAgent(\"GraphAnalyst\")\n",
    "print(\"✅ Enhanced agent with graph reasoning created\")"
   ]
  },
  {
   "cell_type": "markdown",
   "metadata": {},
   "source": [
    "### Test Graph-Based Reasoning\n",
    "\n",
    "Let's test the enhanced agent's comprehensive analysis capabilities."
   ]
  },
  {
   "cell_type": "code",
   "execution_count": null,
   "metadata": {},
   "outputs": [],
   "source": [
    "print(\"=== TESTING GRAPH-BASED REASONING ===\\n\")\n",
    "\n",
    "# Comprehensive analysis of Apple\n",
    "analysis = enhanced_agent.comprehensive_analysis(\"Apple Inc\")\n",
    "\n",
    "print(f\"📊 COMPREHENSIVE ANALYSIS: {analysis['company']}\")\n",
    "print(f\"Sector: {analysis['basic_data']['sector']}\")\n",
    "print(f\"Competitive Intensity: {analysis['competitive_analysis']['competitive_intensity']}\")\n",
    "print(f\"Risk Level: {analysis['risk_analysis']['risk_level']} ({analysis['risk_analysis']['risk_score']}/100)\")\n",
    "print(f\"\\n💼 Recommendation:\\n{analysis['recommendation']}\")"
   ]
  },
  {
   "cell_type": "code",
   "execution_count": null,
   "metadata": {},
   "outputs": [],
   "source": [
    "# Check enhanced agent status\n",
    "print(f\"\\n📈 Enhanced Agent Status: {enhanced_agent.get_status()}\")"
   ]
  },
  {
   "cell_type": "markdown",
   "metadata": {},
   "source": [
    "## Lesson 3: Complete Financial Intelligence System\n",
    "\n",
    "Now we'll create a complete financial intelligence system that includes market data integration, investment scoring, and portfolio management."
   ]
  },
  {
   "cell_type": "markdown",
   "metadata": {},
   "source": [
    "### Market Data Tool\n",
    "\n",
    "This tool simulates getting market data from external sources. In production, you would connect to real financial APIs."
   ]
  },
  {
   "cell_type": "code",
   "execution_count": null,
   "metadata": {},
   "outputs": [],
   "source": [
    "class MarketDataTool:\n",
    "    \"\"\"Tool to simulate getting market data from external sources\"\"\"\n",
    "    \n",
    "    def __init__(self):\n",
    "        # Mock market data - in production, connect to real APIs\n",
    "        self.mock_data = {\n",
    "            'AAPL': {'price': 185.25, 'change_percent': 1.29, 'pe_ratio': 28.5},\n",
    "            'MSFT': {'price': 415.30, 'change_percent': -0.44, 'pe_ratio': 32.1}\n",
    "        }\n",
    "    \n",
    "    def get_data(self, ticker: str):\n",
    "        \"\"\"Get market data for a ticker symbol\"\"\"\n",
    "        if ticker in self.mock_data:\n",
    "            return {'success': True, 'data': self.mock_data[ticker]}\n",
    "        return {'success': False, 'error': f'No data for {ticker}'}\n",
    "\n",
    "print(\"✅ Market data tool created\")"
   ]
  },
  {
   "cell_type": "markdown",
   "metadata": {},
   "source": [
    "### Financial Intelligence System\n",
    "\n",
    "This system combines all our tools to provide complete investment analysis and portfolio management."
   ]
  },
  {
   "cell_type": "code",
   "execution_count": null,
   "metadata": {},
   "outputs": [],
   "source": [
    "class FinancialIntelligenceSystem:\n",
    "    \"\"\"Complete system for financial intelligence with portfolio management\"\"\"\n",
    "    \n",
    "    def __init__(self):\n",
    "        self.agent = EnhancedAgent(\"FinancialIntelligence\")\n",
    "        self.market_tool = MarketDataTool()\n",
    "        self.portfolio = {}\n",
    "        self.alerts = []\n",
    "\n",
    "print(\"✅ Financial intelligence system class defined\")"
   ]
  },
  {
   "cell_type": "code",
   "execution_count": null,
   "metadata": {},
   "outputs": [],
   "source": [
    "def analyze_investment(self, company_name: str, ticker: str):\n",
    "    \"\"\"Complete investment analysis combining graph analysis and market data\"\"\"\n",
    "    # Get comprehensive analysis from our enhanced agent\n",
    "    analysis = self.agent.comprehensive_analysis(company_name)\n",
    "    if 'error' in analysis:\n",
    "        return analysis\n",
    "    \n",
    "    # Get current market data\n",
    "    market_data = self.market_tool.get_data(ticker)\n",
    "    \n",
    "    # Calculate investment score (0-100)\n",
    "    score = 50  # Base score\n",
    "    \n",
    "    # Adjust based on market data\n",
    "    if market_data['success']:\n",
    "        data = market_data['data']\n",
    "        # Price momentum\n",
    "        if data['change_percent'] > 0:\n",
    "            score += min(data['change_percent'] * 3, 15)\n",
    "        # P/E ratio evaluation\n",
    "        if 15 <= data['pe_ratio'] <= 25:\n",
    "            score += 20\n",
    "        elif 10 <= data['pe_ratio'] <= 30:\n",
    "            score += 10\n",
    "    \n",
    "    # Adjust based on risk\n",
    "    risk_score = analysis['risk_analysis']['risk_score']\n",
    "    score -= risk_score * 0.3\n",
    "    \n",
    "    # Adjust based on competitive position\n",
    "    intensity = analysis['competitive_analysis']['competitive_intensity']\n",
    "    if intensity == 'Low':\n",
    "        score += 15\n",
    "    elif intensity == 'Medium':\n",
    "        score += 10\n",
    "    \n",
    "    investment_score = max(min(score, 100), 0)\n",
    "    \n",
    "    return {\n",
    "        'company': company_name,\n",
    "        'ticker': ticker,\n",
    "        'investment_score': investment_score,\n",
    "        'market_data': market_data.get('data', {}),\n",
    "        'analysis': analysis,\n",
    "        'recommendation': 'BUY' if investment_score >= 70 else 'HOLD' if investment_score >= 50 else 'SELL'\n",
    "    }\n",
    "\n",
    "# Add the method to our FinancialIntelligenceSystem class\n",
    "FinancialIntelligenceSystem.analyze_investment = analyze_investment\n",
    "\n",
    "print(\"✅ Investment analysis method added\")"
   ]
  },
  {
   "cell_type": "code",
   "execution_count": null,
   "metadata": {},
   "outputs": [],
   "source": [
    "def add_to_portfolio(self, company_name: str, ticker: str):\n",
    "    \"\"\"Add a company to the monitored portfolio\"\"\"\n",
    "    analysis = self.analyze_investment(company_name, ticker)\n",
    "    \n",
    "    self.portfolio[ticker] = {\n",
    "        'company': company_name,\n",
    "        'analysis': analysis,\n",
    "        'added_date': datetime.now()\n",
    "    }\n",
    "    \n",
    "    # Generate alert if investment score is low\n",
    "    if analysis['investment_score'] < 40:\n",
    "        self.alerts.append({\n",
    "            'type': 'low_score',\n",
    "            'message': f\"{company_name} has low investment score: {analysis['investment_score']:.1f}\",\n",
    "            'timestamp': datetime.now()\n",
    "        })\n",
    "    \n",
    "    return analysis\n",
    "\n",
    "def get_portfolio_summary(self):\n",
    "    \"\"\"Get summary of current portfolio\"\"\"\n",
    "    if not self.portfolio:\n",
    "        return {'message': 'Portfolio is empty'}\n",
    "    \n",
    "    scores = [info['analysis']['investment_score'] for info in self.portfolio.values()]\n",
    "    \n",
    "    return {\n",
    "        'total_companies': len(self.portfolio),\n",
    "        'average_score': sum(scores) / len(scores),\n",
    "        'companies': [\n",
    "            {\n",
    "                'company': info['company'],\n",
    "                'ticker': ticker,\n",
    "                'score': info['analysis']['investment_score'],\n",
    "                'recommendation': info['analysis']['recommendation']\n",
    "            }\n",
    "            for ticker, info in sorted(self.portfolio.items(), \n",
    "                                     key=lambda x: x[1]['analysis']['investment_score'], \n",
    "                                     reverse=True)\n",
    "        ]\n",
    "    }\n",
    "\n",
    "# Add the methods to our FinancialIntelligenceSystem class\n",
    "FinancialIntelligenceSystem.add_to_portfolio = add_to_portfolio\n",
    "FinancialIntelligenceSystem.get_portfolio_summary = get_portfolio_summary\n",
    "\n",
    "print(\"✅ Portfolio management methods added\")"
   ]
  },
  {
   "cell_type": "code",
   "execution_count": null,
   "metadata": {},
   "outputs": [],
   "source": [
    "# Create complete financial intelligence system\n",
    "intelligence_system = FinancialIntelligenceSystem()\n",
    "print(\"✅ Complete financial intelligence system created\")"
   ]
  },
  {
   "cell_type": "markdown",
   "metadata": {},
   "source": [
    "### Test Complete System\n",
    "\n",
    "Let's test the complete system by analyzing companies and building a portfolio."
   ]
  },
  {
   "cell_type": "code",
   "execution_count": null,
   "metadata": {},
   "outputs": [],
   "source": [
    "print(\"=== TESTING COMPLETE FINANCIAL INTELLIGENCE SYSTEM ===\\n\")\n",
    "\n",
    "# Analyze and add companies to portfolio\n",
    "companies = [(\"Apple Inc\", \"AAPL\"), (\"Microsoft Corp\", \"MSFT\")]\n",
    "\n",
    "for company, ticker in companies:\n",
    "    print(f\"📊 Analyzing {company} ({ticker})\")\n",
    "    analysis = intelligence_system.add_to_portfolio(company, ticker)\n",
    "    print(f\"   Score: {analysis['investment_score']:.1f}/100\")\n",
    "    print(f\"   Recommendation: {analysis['recommendation']}\")\n",
    "    print()"
   ]
  },
  {
   "cell_type": "code",
   "execution_count": null,
   "metadata": {},
   "outputs": [],
   "source": [
    "# Display portfolio summary\n",
    "summary = intelligence_system.get_portfolio_summary()\n",
    "print(\"📈 PORTFOLIO SUMMARY\")\n",
    "print(f\"Companies: {summary['total_companies']}\")\n",
    "print(f\"Average Score: {summary['average_score']:.1f}/100\")\n",
    "\n",
    "print(\"\\n🏆 Rankings:\")\n",
    "for i, company in enumerate(summary['companies'], 1):\n",
    "    print(f\"  {i}. {company['company']} ({company['ticker']}): {company['score']:.1f} - {company['recommendation']}\")"
   ]
  },
  {
   "cell_type": "code",
   "execution_count": null,
   "metadata": {},
   "outputs": [],
   "source": [
    "# Check for system alerts\n",
    "if intelligence_system.alerts:\n",
    "    print(f\"\\n⚠️ Alerts: {len(intelligence_system.alerts)}\")\n",
    "    for alert in intelligence_system.alerts:\n",
    "        print(f\"  • {alert['message']}\")\n",
    "else:\n",
    "    print(\"\\n✅ No alerts generated\")\n",
    "\n",
    "# Display system statistics\n",
    "print(f\"\\n📊 System Stats:\")\n",
    "agent_status = intelligence_system.agent.get_status()\n",
    "print(f\"  Queries: {agent_status['queries']}\")\n",
    "print(f\"  Entities Tracked: {agent_status['entities_tracked']}\")\n",
    "print(f\"  Portfolio Companies: {len(intelligence_system.portfolio)}\")"
   ]
  },
  {
   "cell_type": "markdown",
   "metadata": {},
   "source": [
    "### Simple Visualization Dashboard\n",
    "\n",
    "Let's create a simple dashboard to visualize our portfolio performance and agent activity."
   ]
  },
  {
   "cell_type": "code",
   "execution_count": null,
   "metadata": {},
   "outputs": [],
   "source": [
    "def create_dashboard():\n",
    "    \"\"\"Create a simple dashboard showing system performance\"\"\"\n",
    "    fig, (ax1, ax2) = plt.subplots(1, 2, figsize=(12, 5))\n",
    "    \n",
    "    # Portfolio scores visualization\n",
    "    if intelligence_system.portfolio:\n",
    "        companies = []\n",
    "        scores = []\n",
    "        colors = []\n",
    "        \n",
    "        for ticker, info in intelligence_system.portfolio.items():\n",
    "            companies.append(f\"{info['company'][:10]}\\n({ticker})\")\n",
    "            score = info['analysis']['investment_score']\n",
    "            scores.append(score)\n",
    "            colors.append('green' if score >= 70 else 'orange' if score >= 50 else 'red')\n",
    "        \n",
    "        bars = ax1.bar(companies, scores, color=colors)\n",
    "        ax1.set_title('Portfolio Investment Scores')\n",
    "        ax1.set_ylabel('Score (0-100)')\n",
    "        ax1.set_ylim(0, 100)\n",
    "        \n",
    "        # Add score labels on bars\n",
    "        for bar, score in zip(bars, scores):\n",
    "            height = bar.get_height()\n",
    "            ax1.text(bar.get_x() + bar.get_width()/2., height + 2,\n",
    "                    f'{score:.0f}', ha='center', va='bottom', fontweight='bold')\n",
    "    else:\n",
    "        ax1.text(0.5, 0.5, 'No Portfolio Data', ha='center', va='center')\n",
    "        ax1.set_title('Portfolio Investment Scores')\n",
    "    \n",
    "    # Agent activity timeline\n",
    "    conversations = intelligence_system.agent.memory.conversations\n",
    "    if conversations:\n",
    "        times = [conv['time'] for conv in conversations]\n",
    "        counts = list(range(1, len(times) + 1))\n",
    "        \n",
    "        ax2.plot(times, counts, marker='o', linewidth=2)\n",
    "        ax2.set_title('Agent Activity Timeline')\n",
    "        ax2.set_ylabel('Cumulative Conversations')\n",
    "        ax2.tick_params(axis='x', rotation=45)\n",
    "    else:\n",
    "        ax2.text(0.5, 0.5, 'No Activity Data', ha='center', va='center')\n",
    "        ax2.set_title('Agent Activity Timeline')\n",
    "    \n",
    "    plt.tight_layout()\n",
    "    plt.show()\n",
    "\n",
    "# Create the dashboard\n",
    "print(\"=== FINANCIAL INTELLIGENCE DASHBOARD ===\")\n",
    "create_dashboard()"
   ]
  },
  {
   "cell_type": "code",
   "execution_count": null,
   "metadata": {},
   "outputs": [],
   "source": [
    "# Print dashboard summary\n",
    "print(\"\\n📊 DASHBOARD SUMMARY\")\n",
    "print(\"=\"*40)\n",
    "\n",
    "if intelligence_system.portfolio:\n",
    "    summary = intelligence_system.get_portfolio_summary()\n",
    "    print(f\"📈 Portfolio: {summary['total_companies']} companies, avg {summary['average_score']:.1f}\")\n",
    "else:\n",
    "    print(\"📈 Portfolio: Empty\")\n",
    "\n",
    "agent_status = intelligence_system.agent.get_status()\n",
    "print(f\"🤖 Agent: {agent_status['queries']} queries, {agent_status['entities_tracked']} entities\")\n",
    "print(f\"⚠️ Alerts: {len(intelligence_system.alerts)}\")"
   ]
  },
  {
   "cell_type": "markdown",
   "metadata": {},
   "source": [
    "## Module Summary\n",
    "\n",
    "🎉 **Module 6: Agents - Complete!**\n",
    "\n",
    "### What You Built\n",
    "✅ **Basic Agent** - Memory system and tool integration  \n",
    "✅ **Graph Reasoning** - Multi-hop analysis over financial networks  \n",
    "✅ **Complete System** - End-to-end investment analysis with portfolio management\n",
    "\n",
    "### Key Capabilities\n",
    "- Agent memory for conversation and entity tracking\n",
    "- Graph-based reasoning for competitive and risk analysis  \n",
    "- Tool integration for external data sources\n",
    "- Investment scoring and portfolio monitoring\n",
    "- Alert generation and performance tracking\n",
    "\n",
    "### Next Steps\n",
    "🚀 **Extensions to Try:**\n",
    "- Connect to real financial APIs (Alpha Vantage, SEC EDGAR)\n",
    "- Add more sophisticated reasoning patterns\n",
    "- Implement real-time monitoring and alerts\n",
    "- Build web interface with Streamlit\n",
    "\n",
    "📚 **Continue Learning:**\n",
    "- Neo4j Graph Data Science Library\n",
    "- Advanced agent frameworks (LangChain, CrewAI)\n",
    "- Production deployment patterns\n",
    "\n",
    "### Course Complete! 🏆\n",
    "You've mastered all 6 modules of **Modular GenAI Workshops 2025**:\n",
    "1. Graph Basics → 2. Structured Data → 3. Unstructured Data → 4. Analytics → 5. Retrievers → 6. **Agents**\n",
    "\n",
    "**You're now equipped to build sophisticated graph-powered AI systems!**"
   ]
  },
  {
   "cell_type": "code",
   "execution_count": null,
   "metadata": {},
   "outputs": [],
   "source": [
    "# Final system status and cleanup\n",
    "print(\"🎊 MODULE 6: AGENTS - COMPLETED! 🎊\")\n",
    "print(\"🏆 MODULAR GENAI WORKSHOPS 2025 - COURSE COMPLETED! 🏆\\n\")\n",
    "\n",
    "# Final statistics\n",
    "agent_status = intelligence_system.agent.get_status()\n",
    "portfolio_summary = intelligence_system.get_portfolio_summary()\n",
    "\n",
    "print(\"📊 FINAL SYSTEM STATISTICS\")\n",
    "print(\"=\"*40)\n",
    "print(f\"🤖 Agent Queries: {agent_status['queries']}\")\n",
    "print(f\"🧠 Conversations: {agent_status['conversations']}\")\n",
    "print(f\"🏢 Entities Tracked: {agent_status['entities_tracked']}\")\n",
    "\n",
    "if 'total_companies' in portfolio_summary:\n",
    "    print(f\"📈 Portfolio Companies: {portfolio_summary['total_companies']}\")\n",
    "    print(f\"📊 Average Score: {portfolio_summary['average_score']:.1f}/100\")\n",
    "\n",
    "print(f\"⚠️ Total Alerts: {len(intelligence_system.alerts)}\")\n",
    "\n",
    "print(f\"\\n🌟 COURSE ACHIEVEMENTS\")\n",
    "print(\"=\"*40)\n",
    "achievements = [\n",
    "    \"Graph Database Mastery\",\n",
    "    \"Data Modeling & Import\", \n",
    "    \"NLP & Knowledge Extraction\",\n",
    "    \"Advanced Graph Analytics\",\n",
    "    \"GraphRAG Implementation\",\n",
    "    \"Intelligent Agents\"\n",
    "]\n",
    "\n",
    "for achievement in achievements:\n",
    "    print(f\"✅ {achievement}\")\n",
    "\n",
    "print(f\"\\n🚀 You're ready to build the future of graph-powered AI!\")\n",
    "print(f\"📚 Continue learning: https://graphacademy.neo4j.com/\")\n",
    "\n",
    "# Optional cleanup\n",
    "# driver.close()\n",
    "print(f\"\\n✅ Session complete!\")"
   ]
  }
 ],
 "metadata": {
  "kernelspec": {
   "display_name": "Python 3",
   "language": "python",
   "name": "python3"
  },
  "language_info": {
   "codemirror_mode": {
    "name": "ipython",
    "version": 3
   },
   "file_extension": ".py",
   "mimetype": "text/x-python",
   "name": "python",
   "nbconvert_exporter": "python",
   "pygments_lexer": "ipython3",
   "version": "3.8.5"
  }
 },
 "nbformat": 4,
 "nbformat_minor": 4
}