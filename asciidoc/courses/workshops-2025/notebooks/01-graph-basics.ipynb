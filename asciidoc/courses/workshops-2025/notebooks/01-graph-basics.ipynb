{
 "cells": [
  {
   "cell_type": "markdown",
   "metadata": {},
   "source": [
    "# Module 1: Graph Basics\n",
    "**Modular GenAI Workshops 2025**\n",
    "\n",
    "This notebook accompanies Module 1 of the workshop series. You'll learn graph database fundamentals and explore financial data using Neo4j and Cypher.\n",
    "\n",
    "## Learning Objectives\n",
    "- Understand graph concepts and Neo4j fundamentals\n",
    "- Write basic Cypher queries\n",
    "- Explore financial data patterns\n",
    "- Connect graph concepts to AI/ML use cases"
   ]
  },
  {
   "cell_type": "markdown",
   "metadata": {},
   "source": [
    "## Environment Setup"
   ]
  },
  {
   "cell_type": "markdown",
   "metadata": {},
   "outputs": [],
   "source": "## Install Required Packages\n\nBefore we can work with Neo4j and analyze graph data, we need to install several Python packages:\n\n- **neo4j**: The official Neo4j Python driver for connecting to and querying the database\n- **pandas**: For data manipulation and analysis \n- **python-dotenv**: For loading environment variables from .env files\n- **matplotlib & seaborn**: For creating data visualizations\n\nThese packages form the foundation of our graph data analysis toolkit."
  },
  {
   "cell_type": "markdown",
   "source": "## Import Libraries and Load Environment Variables\n\nHere we import all the necessary libraries for our graph analysis session:\n\n- **os**: For accessing operating system environment variables\n- **pandas**: We'll use this to convert Neo4j query results into DataFrames for analysis\n- **GraphDatabase from neo4j**: The main class for connecting to Neo4j\n- **load_dotenv**: Loads environment variables from a .env file (keeps credentials secure)\n- **matplotlib.pyplot & seaborn**: For creating charts and visualizations\n\nThe `load_dotenv()` function automatically loads credentials from your .env file, which should contain your Neo4j connection details.",
   "metadata": {},
   "outputs": []
  },
  {
   "cell_type": "markdown",
   "source": "Now we'll import the necessary libraries and load environment variables from our .env file.",
   "metadata": {}
  },
  {
   "cell_type": "markdown",
   "metadata": {},
   "outputs": [],
   "source": "## Create a Neo4j Connection Helper Class\n\nThis `Neo4jConnection` class encapsulates all the logic needed to connect to and query Neo4j:\n\n**Key Components:**\n- **`__init__`**: Gets credentials from environment variables and creates the driver\n- **`query`**: Executes Cypher queries and returns results as Python dictionaries\n- **`close`**: Properly closes the database connection when done\n\n**Security Best Practice**: Notice how we store credentials in environment variables rather than hardcoding them in the notebook. This keeps sensitive information secure.\n\n**Error Handling**: The class provides helpful error messages if credentials are missing, making debugging easier during setup."
  },
  {
   "cell_type": "markdown",
   "source": "Let's create a helper class to manage our Neo4j connection. This will handle authentication and provide a simple query method.",
   "metadata": {}
  },
  {
   "cell_type": "markdown",
   "metadata": {},
   "source": "## Test Database Connection\n\nBefore proceeding with data analysis, it's crucial to verify our connection works properly.\n\n**What this code does:**\n- Executes a simple `RETURN` statement that doesn't require any data\n- If successful, displays a confirmation message\n- If it fails, provides troubleshooting guidance\n\n**Why this matters:**\n- Catches connection issues early before we try complex queries\n- Provides clear feedback about what might be wrong\n- Saves time by identifying configuration problems immediately\n\nThis is a best practice whenever working with external databases or APIs.",
   "outputs": []
  },
  {
   "cell_type": "markdown",
   "source": "Let's test our Neo4j connection to make sure everything is working properly.",
   "metadata": {}
  },
  {
   "cell_type": "markdown",
   "metadata": {},
   "outputs": [],
   "source": "## Explore Node Types in the Database\n\n**Understanding the Cypher Query:**\n```cypher\nMATCH (n) \nRETURN labels(n) AS nodeType, count(n) AS count \nORDER BY count DESC\n```\n\n**Breaking it down:**\n- `MATCH (n)`: Finds all nodes in the database (n is a variable representing any node)\n- `labels(n)`: Gets the label(s) for each node (like Customer, Account, etc.)\n- `count(n)`: Counts how many nodes of each type exist\n- `ORDER BY count DESC`: Shows the most common node types first\n\n**Why this matters:**\nThis gives us a bird's-eye view of our data structure and helps us understand what entities are most prevalent in our financial dataset."
  },
  {
   "cell_type": "markdown",
   "source": "## Examine Relationship Types\n\n**Understanding the Cypher Query:**\n```cypher\nMATCH ()-[r]->() \nRETURN type(r) AS relationshipType, count(r) AS count \nORDER BY count DESC\n```\n\n**Breaking it down:**\n- `()-[r]->()`: Matches any relationship (r) between any two nodes\n- `type(r)`: Gets the relationship type (like HAS_ACCOUNT, TRANSACTION, etc.)\n- `count(r)`: Counts how many relationships of each type exist\n\n**Key Insight:**\nRelationships in graphs represent the connections and interactions between entities. In financial data, these might include:\n- Customer HAS_ACCOUNT relationships\n- TRANSACTION relationships between accounts\n- OWNS relationships for ownership structures\n\nUnderstanding relationship patterns helps identify the most important connections in your data.",
   "metadata": {},
   "outputs": []
  },
  {
   "cell_type": "markdown",
   "source": "Next, let's examine the relationship types that connect our nodes together.",
   "metadata": {}
  },
  {
   "cell_type": "markdown",
   "metadata": {},
   "source": "## Find High-Value Customer Accounts\n\n**Understanding the Graph Pattern:**\n```cypher\nMATCH (c:Customer)-[:HAS_ACCOUNT]->(a:Account)\n```\n\nThis pattern demonstrates a fundamental graph concept: **traversing relationships**\n\n**Breaking it down:**\n- `(c:Customer)`: Find nodes labeled as Customer\n- `-[:HAS_ACCOUNT]->`: Follow the HAS_ACCOUNT relationship\n- `(a:Account)`: To nodes labeled as Account\n\n**Business Value:**\n- Identifies customers with the highest account balances\n- Shows the relationship between customer identity and financial assets\n- Provides data for customer segmentation and targeting\n\n**Graph Advantage:** In a relational database, this would require joining multiple tables. In a graph, it's a simple pattern traversal.",
   "outputs": []
  },
  {
   "cell_type": "markdown",
   "source": "## Visualize Account Type Distribution\n\n**Data Visualization in Graph Analytics:**\n\nHere we demonstrate how to combine graph queries with data visualization:\n\n1. **Query Neo4j** to get account type counts\n2. **Convert to DataFrame** using pandas for easier manipulation\n3. **Create visualization** using seaborn/matplotlib\n\n**Why visualization matters:**\n- Makes patterns immediately visible\n- Helps identify data quality issues\n- Communicates insights effectively to stakeholders\n- Supports exploratory data analysis\n\n**Learning Note:** This pattern of query → DataFrame → visualization is fundamental in graph analytics workflows.",
   "metadata": {},
   "outputs": []
  },
  {
   "cell_type": "markdown",
   "source": "Now let's create a visualization to see the distribution of different account types.",
   "metadata": {}
  },
  {
   "cell_type": "markdown",
   "metadata": {},
   "outputs": [],
   "source": "## Analyze Large Transaction Patterns\n\n**Understanding Multi-Hop Relationships:**\n```cypher\nMATCH (from:Account)-[t:TRANSACTION]->(to:Account)\n```\n\nThis introduces a key graph concept: **relationships with properties**\n\n**Key Learning Points:**\n- `[t:TRANSACTION]`: The relationship itself has properties (amount, date, type)\n- `WHERE t.amount > 5000`: We can filter on relationship properties\n- Graph relationships aren't just connections—they carry meaningful data\n\n**Financial Analytics Application:**\n- Large transactions might indicate business transfers\n- Could be useful for fraud detection\n- Helps understand money flow patterns\n- Supports regulatory compliance monitoring"
  },
  {
   "cell_type": "markdown",
   "source": "## Statistical Analysis of Transaction Amounts\n\n**Combining Graph Data with Statistical Analysis:**\n\nThis cell demonstrates how to extract data from Neo4j and apply statistical analysis:\n\n**Statistical Concepts:**\n- **Distribution analysis**: Understanding how transaction amounts are spread\n- **Box plots**: Identify outliers and quartiles\n- **Descriptive statistics**: Mean, median help understand typical behavior\n\n**Graph Analytics Application:**\n- Unusual distributions might indicate fraud or data quality issues\n- Understanding normal patterns helps identify anomalies\n- Statistical baselines are crucial for machine learning models\n\n**Integration Pattern:** Graph → Extract → Analyze → Visualize is a common workflow in graph analytics.",
   "metadata": {},
   "outputs": []
  },
  {
   "cell_type": "markdown",
   "source": "Let's analyze the distribution of transaction amounts to understand spending patterns.",
   "metadata": {}
  },
  {
   "cell_type": "markdown",
   "metadata": {},
   "source": "## Identify Multi-Account Customers\n\n**Advanced Graph Pattern: Aggregation**\n```cypher\nWITH c, count(a) AS accountCount, collect(a.type) AS accountTypes\n```\n\n**Key Learning Concepts:**\n- **`WITH` clause**: Groups results before further processing (like GROUP BY in SQL)\n- **`count(a)`**: Aggregates the number of accounts per customer\n- **`collect(a.type)`**: Gathers all account types into a list\n- **`WHERE accountCount > 1`**: Filters on the aggregated result\n\n**Business Intelligence Value:**\n- Multi-account customers are typically more valuable\n- Understanding account type combinations helps with product recommendations\n- Enables customer segmentation strategies",
   "outputs": []
  },
  {
   "cell_type": "markdown",
   "source": "Let's identify customers who have multiple accounts, as these may be our most valuable customers.",
   "metadata": {}
  },
  {
   "cell_type": "code",
   "execution_count": null,
   "metadata": {},
   "outputs": [],
   "source": [
    "# Get node counts by type\n",
    "node_counts = neo4j.query(\"\"\"\n",
    "    MATCH (n) \n",
    "    RETURN labels(n) AS nodeType, count(n) AS count \n",
    "    ORDER BY count DESC\n",
    "\"\"\")\n",
    "\n",
    "print(\"=== Database Overview ===\")\n",
    "for record in node_counts:\n",
    "    node_type = record['nodeType'][0] if record['nodeType'] else 'No Label'\n",
    "    print(f\"{node_type}: {record['count']:,} nodes\")"
   ]
  },
  {
   "cell_type": "code",
   "execution_count": null,
   "metadata": {},
   "outputs": [],
   "source": [
    "# Get relationship counts by type\n",
    "rel_counts = neo4j.query(\"\"\"\n",
    "    MATCH ()-[r]->() \n",
    "    RETURN type(r) AS relationshipType, count(r) AS count \n",
    "    ORDER BY count DESC\n",
    "\"\"\")\n",
    "\n",
    "print(\"\\n=== Relationship Types ===\")\n",
    "for record in rel_counts:\n",
    "    print(f\"{record['relationshipType']}: {record['count']:,} relationships\")"
   ]
  },
  {
   "cell_type": "markdown",
   "metadata": {},
   "source": [
    "## Exercise 2: Basic Graph Patterns\n",
    "Now let's explore some basic patterns in our financial data."
   ]
  },
  {
   "cell_type": "code",
   "execution_count": null,
   "metadata": {},
   "outputs": [],
   "source": [
    "# Find sample customers and their accounts\n",
    "customers = neo4j.query(\"\"\"\n",
    "    MATCH (c:Customer)-[:HAS_ACCOUNT]->(a:Account)\n",
    "    RETURN c.name AS customer, \n",
    "           a.type AS accountType, \n",
    "           a.balance AS balance,\n",
    "           a.number AS accountNumber\n",
    "    ORDER BY a.balance DESC\n",
    "    LIMIT 10\n",
    "\"\"\")\n",
    "\n",
    "df_customers = pd.DataFrame(customers)\n",
    "print(\"=== Top Customers by Account Balance ===\")\n",
    "print(df_customers.to_string(index=False))"
   ]
  },
  {
   "cell_type": "code",
   "execution_count": null,
   "metadata": {},
   "outputs": [],
   "source": [
    "# Visualize account types distribution\n",
    "account_types = neo4j.query(\"\"\"\n",
    "    MATCH (a:Account)\n",
    "    RETURN a.type AS accountType, count(a) AS count\n",
    "    ORDER BY count DESC\n",
    "\"\"\")\n",
    "\n",
    "df_types = pd.DataFrame(account_types)\n",
    "\n",
    "plt.figure(figsize=(10, 6))\n",
    "sns.barplot(data=df_types, x='accountType', y='count')\n",
    "plt.title('Account Types Distribution')\n",
    "plt.xticks(rotation=45)\n",
    "plt.tight_layout()\n",
    "plt.show()"
   ]
  },
  {
   "cell_type": "markdown",
   "metadata": {},
   "source": [
    "## Exercise 3: Transaction Patterns"
   ]
  },
  {
   "cell_type": "code",
   "execution_count": null,
   "metadata": {},
   "outputs": [],
   "source": [
    "# Find large transactions\n",
    "large_transactions = neo4j.query(\"\"\"\n",
    "    MATCH (from:Account)-[t:TRANSACTION]->(to:Account)\n",
    "    WHERE t.amount > 5000\n",
    "    RETURN from.number AS fromAccount,\n",
    "           to.number AS toAccount,\n",
    "           t.amount AS amount,\n",
    "           t.date AS date,\n",
    "           t.type AS transactionType\n",
    "    ORDER BY t.amount DESC\n",
    "    LIMIT 10\n",
    "\"\"\")\n",
    "\n",
    "df_transactions = pd.DataFrame(large_transactions)\n",
    "print(\"=== Largest Transactions ===\")\n",
    "print(df_transactions.to_string(index=False))"
   ]
  },
  {
   "cell_type": "code",
   "execution_count": null,
   "metadata": {},
   "outputs": [],
   "source": [
    "# Analyze transaction amounts distribution\n",
    "transaction_stats = neo4j.query(\"\"\"\n",
    "    MATCH ()-[t:TRANSACTION]-()\n",
    "    RETURN t.amount AS amount\n",
    "    ORDER BY t.amount\n",
    "\"\"\")\n",
    "\n",
    "amounts = [record['amount'] for record in transaction_stats]\n",
    "\n",
    "plt.figure(figsize=(12, 4))\n",
    "\n",
    "plt.subplot(1, 2, 1)\n",
    "plt.hist(amounts, bins=50, alpha=0.7)\n",
    "plt.title('Transaction Amount Distribution')\n",
    "plt.xlabel('Amount')\n",
    "plt.ylabel('Frequency')\n",
    "\n",
    "plt.subplot(1, 2, 2)\n",
    "plt.boxplot(amounts)\n",
    "plt.title('Transaction Amount Box Plot')\n",
    "plt.ylabel('Amount')\n",
    "\n",
    "plt.tight_layout()\n",
    "plt.show()\n",
    "\n",
    "print(f\"Total transactions: {len(amounts):,}\")\n",
    "print(f\"Average amount: ${pd.Series(amounts).mean():.2f}\")\n",
    "print(f\"Median amount: ${pd.Series(amounts).median():.2f}\")"
   ]
  },
  {
   "cell_type": "markdown",
   "metadata": {},
   "source": [
    "## Exercise 4: Customer Analysis"
   ]
  },
  {
   "cell_type": "code",
   "execution_count": null,
   "metadata": {},
   "outputs": [],
   "source": [
    "# Find customers with multiple accounts\n",
    "multi_account_customers = neo4j.query(\"\"\"\n",
    "    MATCH (c:Customer)-[:HAS_ACCOUNT]->(a:Account)\n",
    "    WITH c, count(a) AS accountCount, collect(a.type) AS accountTypes\n",
    "    WHERE accountCount > 1\n",
    "    RETURN c.name AS customer, \n",
    "           accountCount,\n",
    "           accountTypes\n",
    "    ORDER BY accountCount DESC\n",
    "    LIMIT 10\n",
    "\"\"\")\n",
    "\n",
    "print(\"=== Customers with Multiple Accounts ===\")\n",
    "for record in multi_account_customers:\n",
    "    print(f\"{record['customer']}: {record['accountCount']} accounts ({', '.join(record['accountTypes'])})\")"
   ]
  },
  {
   "cell_type": "code",
   "execution_count": null,
   "metadata": {},
   "outputs": [],
   "source": [
    "# Find most active customers by transaction volume\n",
    "active_customers = neo4j.query(\"\"\"\n",
    "    MATCH (c:Customer)-[:HAS_ACCOUNT]->(a:Account)-[t:TRANSACTION]-()\n",
    "    WITH c, count(t) AS transactionCount, sum(abs(t.amount)) AS totalVolume\n",
    "    WHERE transactionCount > 5\n",
    "    RETURN c.name AS customer, \n",
    "           transactionCount, \n",
    "           totalVolume\n",
    "    ORDER BY totalVolume DESC\n",
    "    LIMIT 10\n",
    "\"\"\")\n",
    "\n",
    "df_active = pd.DataFrame(active_customers)\n",
    "print(\"=== Most Active Customers by Transaction Volume ===\")\n",
    "print(df_active.to_string(index=False))"
   ]
  },
  {
   "cell_type": "markdown",
   "metadata": {},
   "source": [
    "## Exercise 5: Graph Patterns for AI Applications\n",
    "Let's explore some patterns that would be useful for AI applications like fraud detection and recommendations."
   ]
  },
  {
   "cell_type": "code",
   "execution_count": null,
   "metadata": {},
   "outputs": [],
   "source": [
    "# Find potential fraud patterns - accounts with unusual transaction patterns\n",
    "unusual_patterns = neo4j.query(\"\"\"\n",
    "    MATCH (a:Account)-[t:TRANSACTION]-()\n",
    "    WITH a, \n",
    "         count(t) AS transactionCount,\n",
    "         avg(t.amount) AS avgAmount,\n",
    "         stdev(t.amount) AS amountStdev\n",
    "    WHERE transactionCount > 10 \n",
    "      AND amountStdev > avgAmount * 1.5\n",
    "    RETURN a.number AS account, \n",
    "           a.type AS accountType,\n",
    "           transactionCount, \n",
    "           avgAmount, \n",
    "           amountStdev\n",
    "    ORDER BY amountStdev DESC\n",
    "    LIMIT 10\n",
    "\"\"\")\n",
    "\n",
    "print(\"=== Accounts with Unusual Transaction Patterns ===\")\n",
    "print(\"(High variance in transaction amounts - potential fraud indicators)\")\n",
    "df_unusual = pd.DataFrame(unusual_patterns)\n",
    "print(df_unusual.to_string(index=False))"
   ]
  },
  {
   "cell_type": "code",
   "execution_count": null,
   "metadata": {},
   "outputs": [],
   "source": [
    "# Find customer similarity patterns (for recommendations)\n",
    "customer_similarity = neo4j.query(\"\"\"\n",
    "    MATCH (c1:Customer)-[:HAS_ACCOUNT]->()-[:TRANSACTION]->(m:Account)<-[:TRANSACTION]-()-[:HAS_ACCOUNT]-(c2:Customer)\n",
    "    WHERE c1 <> c2\n",
    "    WITH c1, c2, count(m) AS sharedConnections\n",
    "    WHERE sharedConnections >= 2\n",
    "    RETURN c1.name AS customer1, \n",
    "           c2.name AS customer2, \n",
    "           sharedConnections\n",
    "    ORDER BY sharedConnections DESC\n",
    "    LIMIT 10\n",
    "\"\"\")\n",
    "\n",
    "print(\"\\n=== Customer Similarity (Shared Transaction Patterns) ===\")\n",
    "print(\"(Customers who transact with similar accounts - useful for recommendations)\")\n",
    "df_similarity = pd.DataFrame(customer_similarity)\n",
    "print(df_similarity.to_string(index=False))"
   ]
  },
  {
   "cell_type": "markdown",
   "metadata": {},
   "source": [
    "## Challenge Exercise: Write Your Own Queries\n",
    "Try writing Cypher queries to answer these business questions:"
   ]
  },
  {
   "cell_type": "code",
   "execution_count": null,
   "metadata": {},
   "outputs": [],
   "source": [
    "# Challenge 1: Find customers who have accounts but no transactions\n",
    "# Your query here:\n",
    "query1 = \"\"\"\n",
    "MATCH (c:Customer)-[:HAS_ACCOUNT]->(a:Account)\n",
    "WHERE NOT (a)-[:TRANSACTION]-()\n",
    "RETURN c.name AS customer, a.number AS account, a.type AS accountType\n",
    "LIMIT 10\n",
    "\"\"\"\n",
    "\n",
    "result1 = neo4j.query(query1)\n",
    "print(\"=== Customers with Accounts but No Transactions ===\")\n",
    "for record in result1:\n",
    "    print(f\"{record['customer']}: {record['account']} ({record['accountType']})\")"
   ]
  },
  {
   "cell_type": "code",
   "execution_count": null,
   "metadata": {},
   "outputs": [],
   "source": [
    "# Challenge 2: Find the highest total balance by customer\n",
    "# Your query here:\n",
    "query2 = \"\"\"\n",
    "MATCH (c:Customer)-[:HAS_ACCOUNT]->(a:Account)\n",
    "WITH c, sum(a.balance) AS totalBalance\n",
    "RETURN c.name AS customer, totalBalance\n",
    "ORDER BY totalBalance DESC\n",
    "LIMIT 10\n",
    "\"\"\"\n",
    "\n",
    "result2 = neo4j.query(query2)\n",
    "print(\"\\n=== Customers by Total Balance ===\")\n",
    "for record in result2:\n",
    "    print(f\"{record['customer']}: ${record['totalBalance']:,.2f}\")"
   ]
  },
  {
   "cell_type": "code",
   "execution_count": null,
   "metadata": {},
   "outputs": [],
   "source": [
    "# Challenge 3: Find the most common transaction types\n",
    "# Your query here:\n",
    "query3 = \"\"\"\n",
    "MATCH ()-[t:TRANSACTION]-()\n",
    "RETURN t.type AS transactionType, count(t) AS frequency\n",
    "ORDER BY frequency DESC\n",
    "\"\"\"\n",
    "\n",
    "result3 = neo4j.query(query3)\n",
    "print(\"\\n=== Most Common Transaction Types ===\")\n",
    "for record in result3:\n",
    "    print(f\"{record['transactionType']}: {record['frequency']:,} transactions\")"
   ]
  },
  {
   "cell_type": "markdown",
   "metadata": {},
   "source": [
    "## Summary and Reflection\n",
    "\n",
    "In this module, you've learned:\n",
    "\n",
    "1. **Graph Database Fundamentals**: How graphs store data as nodes and relationships\n",
    "2. **Cypher Query Language**: Basic patterns for finding and analyzing data\n",
    "3. **Financial Data Patterns**: Real-world examples of customer, account, and transaction data\n",
    "4. **AI Application Potential**: How graph patterns can support fraud detection and recommendations\n",
    "\n",
    "### Key Insights from the Data:\n",
    "- Graphs naturally represent financial relationships and transaction flows\n",
    "- Pattern-based queries can identify unusual behavior and customer similarities\n",
    "- Graph traversals reveal insights that would be complex in relational databases\n",
    "\n",
    "### Next Steps:\n",
    "In the next module, we'll learn how to import and model structured data to build graphs like this one."
   ]
  },
  {
   "cell_type": "markdown",
   "metadata": {},
   "source": [
    "## Cleanup"
   ]
  },
  {
   "cell_type": "code",
   "execution_count": null,
   "metadata": {},
   "outputs": [],
   "source": [
    "# Close the Neo4j connection\n",
    "neo4j.close()\n",
    "print(\"✅ Connection closed\")"
   ]
  }
 ],
 "metadata": {
  "kernelspec": {
   "display_name": "Python 3",
   "language": "python",
   "name": "python3"
  },
  "language_info": {
   "codemirror_mode": {
    "name": "ipython",
    "version": 3
   },
   "file_extension": ".py",
   "mimetype": "text/x-python",
   "name": "python",
   "nbconvert_exporter": "python",
   "pygments_lexer": "ipython3",
   "version": "3.9.0"
  }
 },
 "nbformat": 4,
 "nbformat_minor": 4
}